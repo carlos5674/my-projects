{
  "nbformat": 4,
  "nbformat_minor": 0,
  "metadata": {
    "colab": {
      "provenance": []
    },
    "kernelspec": {
      "name": "python3",
      "display_name": "Python 3"
    },
    "language_info": {
      "name": "python"
    }
  },
  "cells": [
    {
      "cell_type": "code",
      "execution_count": 29,
      "metadata": {
        "id": "YgJKSzQ2VRl5"
      },
      "outputs": [],
      "source": [
        "import pandas as pd\n",
        "import seaborn as sns\n",
        "import matplotlib.pyplot as plt\n",
        "from collections import Counter\n",
        "from matplotlib_venn import venn2\n",
        "from scipy import sparse\n",
        "from sklearn import linear_model\n",
        "import numpy as np\n",
        "import operator\n",
        "import nltk\n",
        "import math\n",
        "from scipy.stats import norm"
      ]
    },
    {
      "cell_type": "code",
      "source": [
        "final_data = pd.read_csv('/content/final.csv')\n",
        "final_data.head()"
      ],
      "metadata": {
        "colab": {
          "base_uri": "https://localhost:8080/",
          "height": 206
        },
        "id": "VMxfVwFpVehT",
        "outputId": "ef7566d6-ce18-48fa-9248-8750ec4331ab"
      },
      "execution_count": 30,
      "outputs": [
        {
          "output_type": "execute_result",
          "data": {
            "text/plain": [
              "   ID  Label                                               Text\n",
              "0   1      4  Second refugee family leaves small Newfoundlan...\n",
              "1   2      7  American border patrol agents stopping and boa...\n",
              "2   3      4  Girlfriend of illegal immigrant accused in Nor...\n",
              "3   4      5  Why These Students Are Living With Immigrant F...\n",
              "4   5      8  Haitian asylum seekers crossing Quebec border ..."
            ],
            "text/html": [
              "\n",
              "  <div id=\"df-705636b6-c40a-4589-b8f6-66ba380af195\" class=\"colab-df-container\">\n",
              "    <div>\n",
              "<style scoped>\n",
              "    .dataframe tbody tr th:only-of-type {\n",
              "        vertical-align: middle;\n",
              "    }\n",
              "\n",
              "    .dataframe tbody tr th {\n",
              "        vertical-align: top;\n",
              "    }\n",
              "\n",
              "    .dataframe thead th {\n",
              "        text-align: right;\n",
              "    }\n",
              "</style>\n",
              "<table border=\"1\" class=\"dataframe\">\n",
              "  <thead>\n",
              "    <tr style=\"text-align: right;\">\n",
              "      <th></th>\n",
              "      <th>ID</th>\n",
              "      <th>Label</th>\n",
              "      <th>Text</th>\n",
              "    </tr>\n",
              "  </thead>\n",
              "  <tbody>\n",
              "    <tr>\n",
              "      <th>0</th>\n",
              "      <td>1</td>\n",
              "      <td>4</td>\n",
              "      <td>Second refugee family leaves small Newfoundlan...</td>\n",
              "    </tr>\n",
              "    <tr>\n",
              "      <th>1</th>\n",
              "      <td>2</td>\n",
              "      <td>7</td>\n",
              "      <td>American border patrol agents stopping and boa...</td>\n",
              "    </tr>\n",
              "    <tr>\n",
              "      <th>2</th>\n",
              "      <td>3</td>\n",
              "      <td>4</td>\n",
              "      <td>Girlfriend of illegal immigrant accused in Nor...</td>\n",
              "    </tr>\n",
              "    <tr>\n",
              "      <th>3</th>\n",
              "      <td>4</td>\n",
              "      <td>5</td>\n",
              "      <td>Why These Students Are Living With Immigrant F...</td>\n",
              "    </tr>\n",
              "    <tr>\n",
              "      <th>4</th>\n",
              "      <td>5</td>\n",
              "      <td>8</td>\n",
              "      <td>Haitian asylum seekers crossing Quebec border ...</td>\n",
              "    </tr>\n",
              "  </tbody>\n",
              "</table>\n",
              "</div>\n",
              "    <div class=\"colab-df-buttons\">\n",
              "\n",
              "  <div class=\"colab-df-container\">\n",
              "    <button class=\"colab-df-convert\" onclick=\"convertToInteractive('df-705636b6-c40a-4589-b8f6-66ba380af195')\"\n",
              "            title=\"Convert this dataframe to an interactive table.\"\n",
              "            style=\"display:none;\">\n",
              "\n",
              "  <svg xmlns=\"http://www.w3.org/2000/svg\" height=\"24px\" viewBox=\"0 -960 960 960\">\n",
              "    <path d=\"M120-120v-720h720v720H120Zm60-500h600v-160H180v160Zm220 220h160v-160H400v160Zm0 220h160v-160H400v160ZM180-400h160v-160H180v160Zm440 0h160v-160H620v160ZM180-180h160v-160H180v160Zm440 0h160v-160H620v160Z\"/>\n",
              "  </svg>\n",
              "    </button>\n",
              "\n",
              "  <style>\n",
              "    .colab-df-container {\n",
              "      display:flex;\n",
              "      gap: 12px;\n",
              "    }\n",
              "\n",
              "    .colab-df-convert {\n",
              "      background-color: #E8F0FE;\n",
              "      border: none;\n",
              "      border-radius: 50%;\n",
              "      cursor: pointer;\n",
              "      display: none;\n",
              "      fill: #1967D2;\n",
              "      height: 32px;\n",
              "      padding: 0 0 0 0;\n",
              "      width: 32px;\n",
              "    }\n",
              "\n",
              "    .colab-df-convert:hover {\n",
              "      background-color: #E2EBFA;\n",
              "      box-shadow: 0px 1px 2px rgba(60, 64, 67, 0.3), 0px 1px 3px 1px rgba(60, 64, 67, 0.15);\n",
              "      fill: #174EA6;\n",
              "    }\n",
              "\n",
              "    .colab-df-buttons div {\n",
              "      margin-bottom: 4px;\n",
              "    }\n",
              "\n",
              "    [theme=dark] .colab-df-convert {\n",
              "      background-color: #3B4455;\n",
              "      fill: #D2E3FC;\n",
              "    }\n",
              "\n",
              "    [theme=dark] .colab-df-convert:hover {\n",
              "      background-color: #434B5C;\n",
              "      box-shadow: 0px 1px 3px 1px rgba(0, 0, 0, 0.15);\n",
              "      filter: drop-shadow(0px 1px 2px rgba(0, 0, 0, 0.3));\n",
              "      fill: #FFFFFF;\n",
              "    }\n",
              "  </style>\n",
              "\n",
              "    <script>\n",
              "      const buttonEl =\n",
              "        document.querySelector('#df-705636b6-c40a-4589-b8f6-66ba380af195 button.colab-df-convert');\n",
              "      buttonEl.style.display =\n",
              "        google.colab.kernel.accessAllowed ? 'block' : 'none';\n",
              "\n",
              "      async function convertToInteractive(key) {\n",
              "        const element = document.querySelector('#df-705636b6-c40a-4589-b8f6-66ba380af195');\n",
              "        const dataTable =\n",
              "          await google.colab.kernel.invokeFunction('convertToInteractive',\n",
              "                                                    [key], {});\n",
              "        if (!dataTable) return;\n",
              "\n",
              "        const docLinkHtml = 'Like what you see? Visit the ' +\n",
              "          '<a target=\"_blank\" href=https://colab.research.google.com/notebooks/data_table.ipynb>data table notebook</a>'\n",
              "          + ' to learn more about interactive tables.';\n",
              "        element.innerHTML = '';\n",
              "        dataTable['output_type'] = 'display_data';\n",
              "        await google.colab.output.renderOutput(dataTable, element);\n",
              "        const docLink = document.createElement('div');\n",
              "        docLink.innerHTML = docLinkHtml;\n",
              "        element.appendChild(docLink);\n",
              "      }\n",
              "    </script>\n",
              "  </div>\n",
              "\n",
              "\n",
              "    <div id=\"df-832ec792-591f-40af-b7b7-5e425ac34c2c\">\n",
              "      <button class=\"colab-df-quickchart\" onclick=\"quickchart('df-832ec792-591f-40af-b7b7-5e425ac34c2c')\"\n",
              "                title=\"Suggest charts\"\n",
              "                style=\"display:none;\">\n",
              "\n",
              "<svg xmlns=\"http://www.w3.org/2000/svg\" height=\"24px\"viewBox=\"0 0 24 24\"\n",
              "     width=\"24px\">\n",
              "    <g>\n",
              "        <path d=\"M19 3H5c-1.1 0-2 .9-2 2v14c0 1.1.9 2 2 2h14c1.1 0 2-.9 2-2V5c0-1.1-.9-2-2-2zM9 17H7v-7h2v7zm4 0h-2V7h2v10zm4 0h-2v-4h2v4z\"/>\n",
              "    </g>\n",
              "</svg>\n",
              "      </button>\n",
              "\n",
              "<style>\n",
              "  .colab-df-quickchart {\n",
              "      --bg-color: #E8F0FE;\n",
              "      --fill-color: #1967D2;\n",
              "      --hover-bg-color: #E2EBFA;\n",
              "      --hover-fill-color: #174EA6;\n",
              "      --disabled-fill-color: #AAA;\n",
              "      --disabled-bg-color: #DDD;\n",
              "  }\n",
              "\n",
              "  [theme=dark] .colab-df-quickchart {\n",
              "      --bg-color: #3B4455;\n",
              "      --fill-color: #D2E3FC;\n",
              "      --hover-bg-color: #434B5C;\n",
              "      --hover-fill-color: #FFFFFF;\n",
              "      --disabled-bg-color: #3B4455;\n",
              "      --disabled-fill-color: #666;\n",
              "  }\n",
              "\n",
              "  .colab-df-quickchart {\n",
              "    background-color: var(--bg-color);\n",
              "    border: none;\n",
              "    border-radius: 50%;\n",
              "    cursor: pointer;\n",
              "    display: none;\n",
              "    fill: var(--fill-color);\n",
              "    height: 32px;\n",
              "    padding: 0;\n",
              "    width: 32px;\n",
              "  }\n",
              "\n",
              "  .colab-df-quickchart:hover {\n",
              "    background-color: var(--hover-bg-color);\n",
              "    box-shadow: 0 1px 2px rgba(60, 64, 67, 0.3), 0 1px 3px 1px rgba(60, 64, 67, 0.15);\n",
              "    fill: var(--button-hover-fill-color);\n",
              "  }\n",
              "\n",
              "  .colab-df-quickchart-complete:disabled,\n",
              "  .colab-df-quickchart-complete:disabled:hover {\n",
              "    background-color: var(--disabled-bg-color);\n",
              "    fill: var(--disabled-fill-color);\n",
              "    box-shadow: none;\n",
              "  }\n",
              "\n",
              "  .colab-df-spinner {\n",
              "    border: 2px solid var(--fill-color);\n",
              "    border-color: transparent;\n",
              "    border-bottom-color: var(--fill-color);\n",
              "    animation:\n",
              "      spin 1s steps(1) infinite;\n",
              "  }\n",
              "\n",
              "  @keyframes spin {\n",
              "    0% {\n",
              "      border-color: transparent;\n",
              "      border-bottom-color: var(--fill-color);\n",
              "      border-left-color: var(--fill-color);\n",
              "    }\n",
              "    20% {\n",
              "      border-color: transparent;\n",
              "      border-left-color: var(--fill-color);\n",
              "      border-top-color: var(--fill-color);\n",
              "    }\n",
              "    30% {\n",
              "      border-color: transparent;\n",
              "      border-left-color: var(--fill-color);\n",
              "      border-top-color: var(--fill-color);\n",
              "      border-right-color: var(--fill-color);\n",
              "    }\n",
              "    40% {\n",
              "      border-color: transparent;\n",
              "      border-right-color: var(--fill-color);\n",
              "      border-top-color: var(--fill-color);\n",
              "    }\n",
              "    60% {\n",
              "      border-color: transparent;\n",
              "      border-right-color: var(--fill-color);\n",
              "    }\n",
              "    80% {\n",
              "      border-color: transparent;\n",
              "      border-right-color: var(--fill-color);\n",
              "      border-bottom-color: var(--fill-color);\n",
              "    }\n",
              "    90% {\n",
              "      border-color: transparent;\n",
              "      border-bottom-color: var(--fill-color);\n",
              "    }\n",
              "  }\n",
              "</style>\n",
              "\n",
              "      <script>\n",
              "        async function quickchart(key) {\n",
              "          const quickchartButtonEl =\n",
              "            document.querySelector('#' + key + ' button');\n",
              "          quickchartButtonEl.disabled = true;  // To prevent multiple clicks.\n",
              "          quickchartButtonEl.classList.add('colab-df-spinner');\n",
              "          try {\n",
              "            const charts = await google.colab.kernel.invokeFunction(\n",
              "                'suggestCharts', [key], {});\n",
              "          } catch (error) {\n",
              "            console.error('Error during call to suggestCharts:', error);\n",
              "          }\n",
              "          quickchartButtonEl.classList.remove('colab-df-spinner');\n",
              "          quickchartButtonEl.classList.add('colab-df-quickchart-complete');\n",
              "        }\n",
              "        (() => {\n",
              "          let quickchartButtonEl =\n",
              "            document.querySelector('#df-832ec792-591f-40af-b7b7-5e425ac34c2c button');\n",
              "          quickchartButtonEl.style.display =\n",
              "            google.colab.kernel.accessAllowed ? 'block' : 'none';\n",
              "        })();\n",
              "      </script>\n",
              "    </div>\n",
              "\n",
              "    </div>\n",
              "  </div>\n"
            ],
            "application/vnd.google.colaboratory.intrinsic+json": {
              "type": "dataframe",
              "variable_name": "final_data",
              "summary": "{\n  \"name\": \"final_data\",\n  \"rows\": 500,\n  \"fields\": [\n    {\n      \"column\": \"ID\",\n      \"properties\": {\n        \"dtype\": \"number\",\n        \"std\": 144,\n        \"min\": 1,\n        \"max\": 500,\n        \"num_unique_values\": 500,\n        \"samples\": [\n          362,\n          74,\n          375\n        ],\n        \"semantic_type\": \"\",\n        \"description\": \"\"\n      }\n    },\n    {\n      \"column\": \"Label\",\n      \"properties\": {\n        \"dtype\": \"number\",\n        \"std\": 1,\n        \"min\": 0,\n        \"max\": 10,\n        \"num_unique_values\": 11,\n        \"samples\": [\n          6,\n          4,\n          1\n        ],\n        \"semantic_type\": \"\",\n        \"description\": \"\"\n      }\n    },\n    {\n      \"column\": \"Text\",\n      \"properties\": {\n        \"dtype\": \"string\",\n        \"num_unique_values\": 499,\n        \"samples\": [\n          \"Immigrant protected under Obama\\u2019s \\u2018Dreamer\\u2019 program is detained: US immigration officials have detained a 23-year-old man from Washington state, who was authorized to remain in the country under a program established by the Obama administration. The man, Daniel Ramirez Medina, has twice been granted deferred action and employment authorization under the Deferred Action for Childhood Arrivals, or DACA, his lawyers said. The program, announced in 2012, is meant to temporarily shield qualified individuals from deportation. The case raises questions about what it could mean for Dreamers, undocumented immigrants who were brought to the United States as children. Ramirez came to the US from Mexico when he was 7 years old and became a DACA recipient in 2014 and renewed in 2016, according to court papers filed by his attorneys. Immigration rights groups say they believe this may be the first time a Dreamer has been arrested without cause. Ramirez\\u2019s lawyers have filed suit in federal court saying their client is being unlawfully held by US Immigration and Customs Enforcement officials. \\u201cThe federal government may not arbitrarily or capriciously deprive DACA recipients of these benefits, as they have here with Mr. Ramirez,\\u201d his lawyers wrote in briefs filed in court. A status conference is scheduled at the US District Court in Washington state on Friday.\",\n          \"Saanich calls on Ottawa to speed up processing times for refugees: A local immigration official is praising Saanich's decision to call on the federal government to improve processing time for refugee applications. A local immigration official is praising Saanich\\u2019s decision to call on the federal government to improve processing time for refugee applications. \\u201cI\\u2019m obviously pleased that Saanich sees this as an important issue,\\u201d said Sabine Lehr, private sponsorship of refugees manager, for the Intercultural Association of Victoria. Lehr was one of several voices Monday who spoke in favour of the motion from Coun. Fred Haynes. It directs Saanich staff to send letters to the office of the Prime Minister, the federal minister of immigration, and local Members of Parliament requesting that Ottawa \\u201clooks to further improve both the processing time and the numbers for both Private Sponsored and Government Assisted refugees. \\u201d According to various sources, including Lehr, some 40,000 private sponsorship applications await processing, and the federal government announced earlier measures to improve processing times. While Haynes acknowledged those efforts, he said more needs to be done. \\u201cIt\\u2019s always good to push on a door that is already opening for you,\\u201d he said. \\u201cIt\\u2019s better than pushing on a door that is closed and will not open for you.\",\n          \"Hungary: Bill Makes Aiding Migrants a Crime: Expand An anti-immigration poster by Victor Orban's Fidesz party during Hungary's April 2018 elections, April 8, 2018, Gyongyos, Hungary. \\u00a9 2018 REUTERS/Leonhard Foeger (Budapest) \\u2013 A revised draft bill published by the Hungarian government on May 29, 2018, would criminalize efforts to help migrants and asylum seekers and curb their access to protection, Human Rights Watch said today. The bill the government presented to parliament proposes amending nine existing laws related to asylum, the national border, and the police. It creates a new criminal offense in the Criminal Code of \\u201cenabling illegal immigration,\\u201d which is defined to include helping asylum seekers who are \\u201cnot eligible for protection,\\u201d as well as to include border monitoring, producing and disseminating information, or \\u201cnetwork building.\\u201d If committed \\u201cregularly,\\u201d or with the aim of \\u201chelp[ing] several persons,\\u201d the offense would be considered aggravated. Anyone convicted would face a sentence of up to a year in prison. \\u201cThis bill is the latest salvo in the Hungarian government\\u2019s war on refugees and those who help them,\\u201d said Benjamin Ward, deputy Europe and Central Asia director at Human Rights Watch. \\u201cHungary\\u2019s government should withdraw this draft bill, honor the country\\u2019s duty to refugees, and end its odious campaign against rights defenders.\\u201dThe draft law would curb the right to asylum by introducing new admissibility criteria that would bar most asylum seekers from getting protection in Hungary.\"\n        ],\n        \"semantic_type\": \"\",\n        \"description\": \"\"\n      }\n    }\n  ]\n}"
            }
          },
          "metadata": {},
          "execution_count": 30
        }
      ]
    },
    {
      "cell_type": "code",
      "source": [
        "# divide final_data into training (60%), development (20%) and test (20%)\n",
        "\n",
        "import os\n",
        "\n",
        "splits_dir = \"splits\"\n",
        "os.makedirs(splits_dir, exist_ok=True)\n",
        "\n",
        "# Calculate split sizes\n",
        "total_size = len(final_data)\n",
        "train_size = int(0.6 * total_size)\n",
        "dev_size = int(0.2 * total_size)\n",
        "test_size = total_size - train_size - dev_size\n",
        "\n",
        "# Shuffle the data randomly\n",
        "final_data_shuffled = final_data.sample(frac=1, random_state=5)\n",
        "\n",
        "# Split the data\n",
        "train_data = final_data_shuffled[:train_size]\n",
        "dev_data = final_data_shuffled[train_size:train_size + dev_size]\n",
        "test_data = final_data_shuffled[train_size + dev_size:]\n",
        "\n",
        "\n",
        "# Save the splits to text files\n",
        "train_data.to_csv(os.path.join(splits_dir, \"train.txt\"), index=False, header=None, sep='\\t')\n",
        "dev_data.to_csv(os.path.join(splits_dir, \"dev.txt\"), index=False, header=None, sep='\\t')\n",
        "test_data.to_csv(os.path.join(splits_dir, \"test.txt\"), index=False, header=None, sep='\\t')\n"
      ],
      "metadata": {
        "id": "8LncmGtwVkZ2"
      },
      "execution_count": 31,
      "outputs": []
    },
    {
      "cell_type": "markdown",
      "source": [
        "***Majority Class Classifier***"
      ],
      "metadata": {
        "id": "JLfsHSzJXHmO"
      }
    },
    {
      "cell_type": "code",
      "source": [
        "def load_data(filename):\n",
        "    X = []\n",
        "    Y = []\n",
        "    with open(filename, encoding=\"utf-8\") as file:\n",
        "        for line in file:\n",
        "            cols = line.strip().split(\"\\t\")\n",
        "            idd = cols[0]\n",
        "            label = cols[1].strip()\n",
        "            text = cols[2]\n",
        "\n",
        "            X.append(text)\n",
        "            Y.append(label)\n",
        "\n",
        "    return X, Y\n"
      ],
      "metadata": {
        "id": "MJjEmt4uXRMv"
      },
      "execution_count": 32,
      "outputs": []
    },
    {
      "cell_type": "code",
      "source": [
        "def majority_class(trainY, evalY):\n",
        "    labelCounts=Counter()\n",
        "    for label in trainY:\n",
        "        labelCounts[label]+=1\n",
        "    majority_class=labelCounts.most_common(1)[0][0]\n",
        "\n",
        "    correct=0.\n",
        "    for label in evalY:\n",
        "        if label == majority_class:\n",
        "            correct+=1\n",
        "    return majority_class, correct/len(evalY)\n",
        "trainingFile = \"splits/train.txt\"\n",
        "devFile = \"splits/dev.txt\"\n",
        "testFile = \"splits/test.txt\"\n",
        "\n",
        "trainX, trainY=load_data(trainingFile)\n",
        "devX, devY=load_data(devFile)\n",
        "testX, testY=load_data(testFile)\n",
        "\n",
        "mc, mc_devAcc=majority_class(trainY, devY)\n",
        "_, mc_testAcc=majority_class(trainY, testY)\n",
        "\n",
        "print(\"Majority class: %s, dev accuracy: %.3f, test accuracy: %.3f\" % (mc, mc_devAcc, mc_testAcc))\n"
      ],
      "metadata": {
        "colab": {
          "base_uri": "https://localhost:8080/",
          "height": 0
        },
        "id": "QzuJS7kmXWOO",
        "outputId": "16df8b2e-5780-44eb-c611-014c1b836457"
      },
      "execution_count": 33,
      "outputs": [
        {
          "output_type": "stream",
          "name": "stdout",
          "text": [
            "Majority class: 7, dev accuracy: 0.130, test accuracy: 0.220\n"
          ]
        }
      ]
    },
    {
      "cell_type": "code",
      "source": [
        "## Ranking the frequency of labels\n",
        "labelCounts = Counter(trainY)\n",
        "\n",
        "ranked_labels = labelCounts.most_common()\n",
        "\n",
        "for i, (label, count) in enumerate(ranked_labels):\n",
        "    print(f\"Rank {i+1}: Label {label} with {count} examples\")"
      ],
      "metadata": {
        "colab": {
          "base_uri": "https://localhost:8080/",
          "height": 0
        },
        "id": "UkQ6GxTOYuTO",
        "outputId": "07fc7bd1-5f01-45fb-e4ff-dd21c3976384"
      },
      "execution_count": 34,
      "outputs": [
        {
          "output_type": "stream",
          "name": "stdout",
          "text": [
            "Rank 1: Label 7 with 76 examples\n",
            "Rank 2: Label 6 with 62 examples\n",
            "Rank 3: Label 8 with 53 examples\n",
            "Rank 4: Label 5 with 36 examples\n",
            "Rank 5: Label 4 with 21 examples\n",
            "Rank 6: Label 3 with 19 examples\n",
            "Rank 7: Label 9 with 11 examples\n",
            "Rank 8: Label 2 with 8 examples\n",
            "Rank 9: Label 10 with 7 examples\n",
            "Rank 10: Label 1 with 4 examples\n",
            "Rank 11: Label 0 with 3 examples\n"
          ]
        }
      ]
    },
    {
      "cell_type": "code",
      "source": [
        "### Visualizing top words\n",
        "# Filter\n",
        "label_7_texts = [text for text, label in zip(trainX, trainY) if label == \"7\"]\n",
        "label_4_texts = [text for text, label in zip(trainX, trainY) if label == \"4\"]\n",
        "\n",
        "# Tokenize\n",
        "all_words = []\n",
        "for text in label_7_texts:\n",
        "    words = text.lower().split()\n",
        "    all_words.extend(words)\n",
        "\n",
        "word_counts = Counter(all_words)\n",
        "\n",
        "top_words = word_counts.most_common(50)\n",
        "words = [word for word, count in top_words]\n",
        "counts = [count for word, count in top_words]\n",
        "\n",
        "print(top_words)"
      ],
      "metadata": {
        "colab": {
          "base_uri": "https://localhost:8080/",
          "height": 0
        },
        "id": "VgmFRF3RZ3oS",
        "outputId": "ba62130c-68cd-46da-f89d-a1ea6d20d70d"
      },
      "execution_count": 35,
      "outputs": [
        {
          "output_type": "stream",
          "name": "stdout",
          "text": [
            "[('the', 850), ('to', 410), ('of', 392), ('in', 357), ('a', 348), ('and', 316), ('for', 186), ('on', 140), ('that', 138), ('from', 100), ('by', 92), ('with', 82), ('as', 81), ('is', 78), ('at', 77), ('was', 69), ('have', 68), ('has', 66), ('he', 64), ('are', 63), ('said', 63), ('an', 60), ('immigration', 58), ('who', 54), ('it', 52), ('been', 51), ('people', 48), ('trump', 47), ('be', 47), ('border', 44), ('but', 43), ('his', 43), ('were', 42), ('after', 42), ('—', 41), ('they', 41), ('or', 39), ('migrants', 39), ('their', 37), ('more', 35), ('this', 34), ('immigrants', 33), ('new', 33), ('not', 31), ('will', 31), ('president', 30), ('had', 30), ('which', 28), ('s.', 28), ('over', 28)]\n"
          ]
        }
      ]
    },
    {
      "cell_type": "code",
      "source": [
        "# Get texts for each label\n",
        "label_7_texts = [text for text, label in zip(trainX, trainY) if label == \"7\"]\n",
        "label_4_texts = [text for text, label in zip(trainX, trainY) if label == \"4\"]\n",
        "\n",
        "# Tokenize\n",
        "words_7 = set()\n",
        "for text in label_7_texts:\n",
        "    words_7.update(text.lower().split())\n",
        "\n",
        "words_4 = set()\n",
        "for text in label_4_texts:\n",
        "    words_4.update(text.lower().split())\n",
        "\n",
        "# Plot Venn\n",
        "plt.figure(figsize=(8,6))\n",
        "venn2([words_7, words_4], set_labels=('Label 7', 'Label 4'))\n",
        "plt.title(\"Word Overlap Between Label 7 and Label 4\")\n",
        "plt.show()\n"
      ],
      "metadata": {
        "colab": {
          "base_uri": "https://localhost:8080/",
          "height": 521
        },
        "id": "ObsJLXK8aUGR",
        "outputId": "5ef9d1a6-eeac-491d-91ee-9729210632b2"
      },
      "execution_count": 36,
      "outputs": [
        {
          "output_type": "display_data",
          "data": {
            "text/plain": [
              "<Figure size 800x600 with 1 Axes>"
            ],
            "image/png": "[encoded data removed]"
          },
          "metadata": {}
        }
      ]
    },
    {
      "cell_type": "code",
      "source": [
        "# Shared words between 7 and 4\n",
        "shared_words = words_7 & words_4\n",
        "print(list(shared_words)[:30])  # print first 30 shared words"
      ],
      "metadata": {
        "colab": {
          "base_uri": "https://localhost:8080/",
          "height": 0
        },
        "id": "nQWYng_kb7yB",
        "outputId": "04c7638f-8228-4b17-db6c-1db4813c87b0"
      },
      "execution_count": 37,
      "outputs": [
        {
          "output_type": "stream",
          "name": "stdout",
          "text": [
            "['women', 'army,', 'mostly', 'why', 'officers', '12', 'obama-era', '\"\"', 'secretary', 'increasingly', 'muslim', \"'the\", 'between', 'committee.', 'mexican', 'health', 'rare', 'week.', 'funding', 'it', 'has', 'year.', 'nearly', 'picture', 'as', 'head', 'some', 'office,', 'saying', 'run']\n"
          ]
        }
      ]
    },
    {
      "cell_type": "code",
      "source": [
        "# Unique to 7\n",
        "unique_to_7 = words_7 - words_4\n",
        "print(list(unique_to_7)[:30])\n",
        "\n",
        "# Unique to 4\n",
        "unique_to_4 = words_4 - words_7\n",
        "print(list(unique_to_4)[:30])"
      ],
      "metadata": {
        "colab": {
          "base_uri": "https://localhost:8080/",
          "height": 0
        },
        "id": "mg-oVK6ccPHa",
        "outputId": "956ff6f9-992c-4d42-c97d-47ee4fa297a2"
      },
      "execution_count": 38,
      "outputs": [
        {
          "output_type": "stream",
          "name": "stdout",
          "text": [
            "['prosecutors’', 'factor', 'interview.', 'data', 'catchall', 'billions', 'diaspora', 'deepen,', 'year,”', 'corp.', 'gazed', 'waters,', 'prospect', 'source.', 'islamic', 'east,', 'imposing', 'indonesia', 'latino', 'roundtable:', 'immunity', 'stone', 'smugglers', 'harnik', 'p.m.', 'addressing', 'weigh', 'double-murder', 'california', 'amazon']\n",
            "['entering', 'undertaking', 'resignation.', 'aug', 'presidency', 'threatened', 'balukhali', 'milan', 'coffee.', 'play', 'dramatically,', 'neck', 'rejection', 'time!’”', '‘listen,', 'point;', 'city,', 'suitcase', 'unprecedented', 'irregular', 'parents', 'home’s', 'bazar', 'dangers', 'fallen', 'moroccan', 'a.', '“america-first”', 'army.', 'foot.']\n"
          ]
        }
      ]
    },
    {
      "cell_type": "markdown",
      "source": [
        "What I was trying to do beforehand was see the most commonly used label, and then see if there were any particular words that have led us to label an article one way or another, then we can incorporate that into the classifier."
      ],
      "metadata": {
        "id": "ZBPSfDqeeK3i"
      }
    },
    {
      "cell_type": "code",
      "source": [
        "def confidence_intervals(accuracy, n, significance_level):\n",
        "    critical_value=(1-significance_level)/2\n",
        "    z_alpha=-1*norm.ppf(critical_value)\n",
        "    se=math.sqrt((accuracy*(1-accuracy))/n)\n",
        "    return accuracy-(se*z_alpha), accuracy+(se*z_alpha)"
      ],
      "metadata": {
        "id": "9P787FZTWovz"
      },
      "execution_count": 39,
      "outputs": []
    },
    {
      "cell_type": "code",
      "source": [
        "## Confidence Interval\n",
        "test_accuracy = 0.220\n",
        "n_test = 500\n",
        "significance_level = 0.05\n",
        "\n",
        "lower, upper = confidence_intervals(test_accuracy, n_test, significance_level)\n",
        "(lower, upper)"
      ],
      "metadata": {
        "colab": {
          "base_uri": "https://localhost:8080/",
          "height": 0
        },
        "id": "Ev3KJsqNV6YL",
        "outputId": "47220b05-04ae-4f7f-e6d4-39f072f36576"
      },
      "execution_count": 40,
      "outputs": [
        {
          "output_type": "execute_result",
          "data": {
            "text/plain": [
              "(np.float64(0.21883831568487533), np.float64(0.22116168431512467))"
            ]
          },
          "metadata": {},
          "execution_count": 40
        }
      ]
    },
    {
      "cell_type": "code",
      "source": [],
      "metadata": {
        "id": "KrRQm6gVfTgP"
      },
      "execution_count": 40,
      "outputs": []
    }
  ]
}